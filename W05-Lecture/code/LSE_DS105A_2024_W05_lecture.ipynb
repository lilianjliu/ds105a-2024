{
 "cells": [
  {
   "cell_type": "markdown",
   "metadata": {},
   "source": [
    "<font style='font-size:1.5em'>**🧑‍🏫 Week 05 Lecture – The Group → Apply → Combine strategy and Data Visualisation** </font>\n",
    "\n",
    "<font style='font-size:1.2em'>LSE [DS105A](https://lse-dsi.github.io/DS105/autumn-term/index.html){style=\"color:#e26a4f;font-weight:bold\"} – Data for Data Science (2024/25) </font>\n",
    "\n",
    "\n",
    "\n",
    "<div style=\"color: #333333; background-color:rgba(226, 106, 79, 0.075); border-radius: 10px; box-shadow: 0 4px 8px rgba(0, 0, 0, 0.1); padding: 20px 0 20px 10px; margin: 10px 0 10px 0; flex: 1 1 calc(45% - 20px);min-width: 250px;max-width: 350px;align-items:top;min-height: calc(45% - 20px); box-sizing: border-box;font-size:0.9em;\">\n",
    "\n",
    "🗓️ **DATE:** 31 October 2024 \n",
    "\n",
    "⌚ **TIME:** 16.00-18.00\n",
    "\n",
    "📍 **LOCATION:** CLM.5.02\n",
    "</div>🎃\n",
    "\n",
    "\n",
    "**AUTHORS:**  Dr. [Jon Cardoso-Silva](https://jonjoncardoso.github.io){style=\"color:#e26a4f;font-weight:bold\"}\n",
    "\n",
    "**DEPARTMENT:** [LSE Data Science Institute](https://lse.ac.uk/dsi){style=\"color:#e26a4f;font-weight:bold\"}\n",
    "\n",
    "**OBJECTIVE**: The building blocks of the grammar-of-graphics approach to data visualisation.\n",
    "\n",
    "**REFERENCES:**\n",
    "\n",
    "- 🌐 [10 minutes to Pandas](https://pandas.pydata.org/pandas-docs/stable/user_guide/10min.html){style=\"color:#e26a4f;font-weight:bold\"}\n",
    "- 📖 [Official pandas documentation](https://pandas.pydata.org/docs/reference/index.html){style=\"color:#e26a4f;font-weight:bold\"}\n",
    "\n",
    "---"
   ]
  },
  {
   "cell_type": "markdown",
   "metadata": {},
   "source": [
    "--- \n",
    "\n",
    "**⚙️ The setup**\n",
    "\n",
    "We will use the following libraries today:"
   ]
  },
  {
   "cell_type": "code",
   "execution_count": 1,
   "metadata": {},
   "outputs": [
    {
     "data": {
      "text/html": [
       "\n",
       "            <div id=\"IHWiVO\"></div>\n",
       "            <script type=\"text/javascript\" data-lets-plot-script=\"library\">\n",
       "                if(!window.letsPlotCallQueue) {\n",
       "                    window.letsPlotCallQueue = [];\n",
       "                }; \n",
       "                window.letsPlotCall = function(f) {\n",
       "                    window.letsPlotCallQueue.push(f);\n",
       "                };\n",
       "                (function() {\n",
       "                    var script = document.createElement(\"script\");\n",
       "                    script.type = \"text/javascript\";\n",
       "                    script.src = \"https://cdn.jsdelivr.net/gh/JetBrains/lets-plot@v4.3.3/js-package/distr/lets-plot.min.js\";\n",
       "                    script.onload = function() {\n",
       "                        window.letsPlotCall = function(f) {f();};\n",
       "                        window.letsPlotCallQueue.forEach(function(f) {f();});\n",
       "                        window.letsPlotCallQueue = [];\n",
       "                        \n",
       "                    };\n",
       "                    script.onerror = function(event) {\n",
       "                        window.letsPlotCall = function(f) {};    // noop\n",
       "                        window.letsPlotCallQueue = [];\n",
       "                        var div = document.createElement(\"div\");\n",
       "                        div.style.color = 'darkred';\n",
       "                        div.textContent = 'Error loading Lets-Plot JS';\n",
       "                        document.getElementById(\"IHWiVO\").appendChild(div);\n",
       "                    };\n",
       "                    var e = document.getElementById(\"IHWiVO\");\n",
       "                    e.appendChild(script);\n",
       "                })()\n",
       "            </script>\n",
       "            "
      ]
     },
     "metadata": {},
     "output_type": "display_data"
    }
   ],
   "source": [
    "import os\n",
    "import json\n",
    "import datetime\n",
    "\n",
    "import pandas as pd\n",
    "from lets_plot import *\n",
    "LetsPlot.setup_html()\n"
   ]
  },
  {
   "cell_type": "markdown",
   "metadata": {},
   "source": [
    "Read an existing dataset:"
   ]
  },
  {
   "cell_type": "code",
   "execution_count": 3,
   "metadata": {},
   "outputs": [],
   "source": [
    "df_reddit = pd.read_csv('../data/reddit_posts.csv')"
   ]
  },
  {
   "cell_type": "code",
   "execution_count": 4,
   "metadata": {},
   "outputs": [],
   "source": [
    "df_reddit['created_utc'] = df_reddit['created_utc'].apply(lambda x: datetime.datetime.fromtimestamp(x))"
   ]
  },
  {
   "cell_type": "code",
   "execution_count": 5,
   "metadata": {},
   "outputs": [
    {
     "data": {
      "text/html": [
       "<div>\n",
       "<style scoped>\n",
       "    .dataframe tbody tr th:only-of-type {\n",
       "        vertical-align: middle;\n",
       "    }\n",
       "\n",
       "    .dataframe tbody tr th {\n",
       "        vertical-align: top;\n",
       "    }\n",
       "\n",
       "    .dataframe thead th {\n",
       "        text-align: right;\n",
       "    }\n",
       "</style>\n",
       "<table border=\"1\" class=\"dataframe\">\n",
       "  <thead>\n",
       "    <tr style=\"text-align: right;\">\n",
       "      <th></th>\n",
       "      <th>ups</th>\n",
       "      <th>downs</th>\n",
       "      <th>score</th>\n",
       "      <th>subreddit_subscribers</th>\n",
       "      <th>num_comments</th>\n",
       "    </tr>\n",
       "  </thead>\n",
       "  <tbody>\n",
       "    <tr>\n",
       "      <th>count</th>\n",
       "      <td>200.000000</td>\n",
       "      <td>200.0</td>\n",
       "      <td>200.000000</td>\n",
       "      <td>2.000000e+02</td>\n",
       "      <td>200.000000</td>\n",
       "    </tr>\n",
       "    <tr>\n",
       "      <th>mean</th>\n",
       "      <td>4753.415000</td>\n",
       "      <td>0.0</td>\n",
       "      <td>4753.415000</td>\n",
       "      <td>3.066587e+07</td>\n",
       "      <td>597.425000</td>\n",
       "    </tr>\n",
       "    <tr>\n",
       "      <th>std</th>\n",
       "      <td>7124.715772</td>\n",
       "      <td>0.0</td>\n",
       "      <td>7124.715772</td>\n",
       "      <td>9.549556e+06</td>\n",
       "      <td>1331.908396</td>\n",
       "    </tr>\n",
       "    <tr>\n",
       "      <th>min</th>\n",
       "      <td>752.000000</td>\n",
       "      <td>0.0</td>\n",
       "      <td>752.000000</td>\n",
       "      <td>1.363286e+07</td>\n",
       "      <td>6.000000</td>\n",
       "    </tr>\n",
       "    <tr>\n",
       "      <th>25%</th>\n",
       "      <td>1309.500000</td>\n",
       "      <td>0.0</td>\n",
       "      <td>1309.500000</td>\n",
       "      <td>2.280827e+07</td>\n",
       "      <td>75.750000</td>\n",
       "    </tr>\n",
       "    <tr>\n",
       "      <th>50%</th>\n",
       "      <td>2343.500000</td>\n",
       "      <td>0.0</td>\n",
       "      <td>2343.500000</td>\n",
       "      <td>3.027790e+07</td>\n",
       "      <td>187.000000</td>\n",
       "    </tr>\n",
       "    <tr>\n",
       "      <th>75%</th>\n",
       "      <td>4816.250000</td>\n",
       "      <td>0.0</td>\n",
       "      <td>4816.250000</td>\n",
       "      <td>3.486540e+07</td>\n",
       "      <td>540.250000</td>\n",
       "    </tr>\n",
       "    <tr>\n",
       "      <th>max</th>\n",
       "      <td>70187.000000</td>\n",
       "      <td>0.0</td>\n",
       "      <td>70187.000000</td>\n",
       "      <td>5.409433e+07</td>\n",
       "      <td>11012.000000</td>\n",
       "    </tr>\n",
       "  </tbody>\n",
       "</table>\n",
       "</div>"
      ],
      "text/plain": [
       "                ups  downs         score  subreddit_subscribers  num_comments\n",
       "count    200.000000  200.0    200.000000           2.000000e+02    200.000000\n",
       "mean    4753.415000    0.0   4753.415000           3.066587e+07    597.425000\n",
       "std     7124.715772    0.0   7124.715772           9.549556e+06   1331.908396\n",
       "min      752.000000    0.0    752.000000           1.363286e+07      6.000000\n",
       "25%     1309.500000    0.0   1309.500000           2.280827e+07     75.750000\n",
       "50%     2343.500000    0.0   2343.500000           3.027790e+07    187.000000\n",
       "75%     4816.250000    0.0   4816.250000           3.486540e+07    540.250000\n",
       "max    70187.000000    0.0  70187.000000           5.409433e+07  11012.000000"
      ]
     },
     "execution_count": 5,
     "metadata": {},
     "output_type": "execute_result"
    }
   ],
   "source": [
    "# After look at dtypes, take a look at the max and min of each int64 column\n",
    "# Either manually: df_reddit['ups'].max()\n",
    "# Or in aggregate: \n",
    "\n",
    "int_cols = df_reddit.select_dtypes(include=['int64']).columns\n",
    "df_reddit[int_cols].describe()"
   ]
  },
  {
 
   "cell_type": "markdown",
   "metadata": {},
   "source": [
    "#  Plots are made of layers!\n",
    "\n",
    "We will use the creation of a barplot to illustrate how the grammar of graphics works. You can read more about it in the references below:\n",
    "- [\"The Layered Grammar of Graphics\"](http://vita.had.co.nz/papers/layered-grammar.pdf)\n",
    "- [R for Data Science, Chapter 3: Data Visualisation](https://r4ds.had.co.nz/data-visualisation.html#creating-a-ggplot)\n",
    "\n",
   
   ]
  },
  {
   "cell_type": "markdown",
   "metadata": {},
   "source": [
    "## How to create a barplot with `lets-plot`?\n",
    "\n",
    "Let's use these principles to build all the layers of a barplot. We will use the `plotnine` package, a Python implementation of the `ggplot2` package in R.\n",
    "\n",
    "Say we want to convert the summarised data below into a barplot:"
   ]
  },
  {
   "cell_type": "code",
   "execution_count": 55,
   "metadata": {},
   "outputs": [
    {
     "data": {
      "text/plain": [
       "r/news             20\n",
       "r/worldnews        18\n",
       "r/todayilearned    16\n",
       "r/funny            14\n",
       "r/aww              14\n",
       "Name: subreddit_name_prefixed, dtype: int64"
      ]
     },
     "execution_count": 55,
     "metadata": {},
     "output_type": "execute_result"
    }
   ],
   "source": [
    "df_reddit['subreddit_name_prefixed'].value_counts().head()"
   ]
  },
  {
   "cell_type": "markdown",
   "metadata": {},
   "source": [
    "First of all, we need to convert the result above to a DataFrame (we can't work with a Series):\n"
   ]
  },
  {
   "cell_type": "code",
   "execution_count": 7,
   "metadata": {},
   "outputs": [
    {
     "data": {
      "text/html": [
       "<div>\n",
       "<style scoped>\n",
       "    .dataframe tbody tr th:only-of-type {\n",
       "        vertical-align: middle;\n",
       "    }\n",
       "\n",
       "    .dataframe tbody tr th {\n",
       "        vertical-align: top;\n",
       "    }\n",
       "\n",
       "    .dataframe thead th {\n",
       "        text-align: right;\n",
       "    }\n",
       "</style>\n",
       "<table border=\"1\" class=\"dataframe\">\n",
       "  <thead>\n",
       "    <tr style=\"text-align: right;\">\n",
       "      <th></th>\n",
       "      <th>subreddit_name_prefixed</th>\n",
       "      <th>count</th>\n",
       "    </tr>\n",
       "  </thead>\n",
       "  <tbody>\n",
       "    <tr>\n",
       "      <th>0</th>\n",
       "      <td>r/news</td>\n",
       "      <td>20</td>\n",
       "    </tr>\n",
       "    <tr>\n",
       "      <th>1</th>\n",
       "      <td>r/worldnews</td>\n",
       "      <td>18</td>\n",
       "    </tr>\n",
       "    <tr>\n",
       "      <th>2</th>\n",
       "      <td>r/todayilearned</td>\n",
       "      <td>16</td>\n",
       "    </tr>\n",
       "    <tr>\n",
       "      <th>3</th>\n",
       "      <td>r/funny</td>\n",
       "      <td>14</td>\n",
       "    </tr>\n",
       "    <tr>\n",
       "      <th>4</th>\n",
       "      <td>r/aww</td>\n",
       "      <td>14</td>\n",
       "    </tr>\n",
       "  </tbody>\n",
       "</table>\n",
       "</div>"
      ],
      "text/plain": [
       "  subreddit_name_prefixed  count\n",
       "0                  r/news     20\n",
       "1             r/worldnews     18\n",
       "2         r/todayilearned     16\n",
       "3                 r/funny     14\n",
       "4                   r/aww     14"
      ]
     },
     "execution_count": 7,
     "metadata": {},
     "output_type": "execute_result"
    }
   ],
   "source": [
    "# Let's stablish the practice of creating a new dataframe for each plot\n",
    "# This way, we avoid modifying the original dataframe by accident\n",
    "plot_df = df_reddit['subreddit_name_prefixed'].value_counts().to_frame().reset_index()\n",
    "plot_df.head()"
   ]
  },
  {
   "cell_type": "markdown",
   "metadata": {},
   "source": [
    "Ops. I have to fix the column names:\n"
   ]
  },
  {
   "cell_type": "code",
   "execution_count": 8,
   "metadata": {},
   "outputs": [],
   "source": [
    "plot_df.columns = ['subreddit', 'count']"
   ]
  },
  {
   "cell_type": "markdown",
   "metadata": {},
   "source": [
    "Now think about the **mapping** of the coordinates of the plot:\n",
    "\n",
    "**What goes in the X axis?** The `subreddit_name_prefixed` column.\n",
    "\n",
    "**What goes in the Y axis?** The `count` column.\n",
    "\n",
    "We specify this mapping by using the `aes()` function (which stands for \"aesthetics\"):"
   ]
  },
  {
   "cell_type": "code",
   "execution_count": 12,
   "metadata": {},
   "outputs": [
    {
     "data": {
      "text/html": [
       "   <div id=\"hLY31V\"></div>\n",
       "   <script type=\"text/javascript\" data-lets-plot-script=\"plot\">\n",
       "       (function() {\n",
       "           var plotSpec={\n",
       "\"data\":{\n",
       "},\n",
       "\"mapping\":{\n",
       "\"x\":\"subreddit\",\n",
       "\"y\":\"count\"\n",
       "},\n",
       "\"data_meta\":{\n",
       "},\n",
       "\"kind\":\"plot\",\n",
       "\"scales\":[],\n",
       "\"layers\":[{\n",
       "\"geom\":\"bar\",\n",
       "\"mapping\":{\n",
       "},\n",
       "\"data_meta\":{\n",
       "},\n",
       "\"data\":{\n",
       "\"subreddit\":[\"r/news\",\"r/worldnews\",\"r/todayilearned\",\"r/funny\",\"r/aww\",\"r/gaming\",\"r/OldSchoolCool\",\"r/mildlyinteresting\",\"r/AskReddit\",\"r/pics\",\"r/science\",\"r/nottheonion\",\"r/TwoXChromosomes\",\"r/movies\",\"r/EarthPorn\",\"r/LifeProTips\",\"r/Jokes\",\"r/explainlikeimfive\",\"r/Showerthoughts\",\"r/tifu\",\"r/Futurology\",\"r/DIY\",\"r/gadgets\",\"r/UpliftingNews\",\"r/food\",\"r/sports\",\"r/dataisbeautiful\",\"r/gifs\",\"r/history\",\"r/space\",\"r/books\"],\n",
       "\"count\":[1.0,1.0,1.0,1.0,1.0,1.0,1.0,1.0,1.0,1.0,1.0,1.0,1.0,1.0,1.0,1.0,1.0,1.0,1.0,1.0,1.0,1.0,1.0,1.0,1.0,1.0,1.0,1.0,1.0,1.0,1.0]\n",
       "}\n",
       "}],\n",
       "\"metainfo_list\":[]\n",
       "};\n",
       "           var plotContainer = document.getElementById(\"hLY31V\");\n",
       "           window.letsPlotCall(function() {{\n",
       "               LetsPlot.buildPlotFromProcessedSpecs(plotSpec, -1, -1, plotContainer);\n",
       "           }});\n",
       "       })();\n",
       "   </script>"
      ],
      "text/plain": [
       "<lets_plot.plot.core.PlotSpec at 0x134f2c4d0>"
      ]
     },
     "execution_count": 12,
     "metadata": {},
     "output_type": "execute_result"
    }
   ],
   "source": [
    "#This is how you specify the axis\n",
    "g = (\n",
    "    ggplot(plot_df, mapping=aes(x=\"subreddit\", y=\"count\")) +\n",
    "    geom_bar()\n",
    ")\n",
    "\n",
    "g"
   ]
  },
  {
   "cell_type": "markdown",
   "metadata": {},
   "source": [
    "The Y-axis is a bit weird. Everything is 1?!?\n",
    "\n",
    "We need to indicate to the plot that we want to **sum** the values of the `count` column, not whether they exist or not. We do this by using the `stat` argument in the `geom_bar()` function:"
   ]
  },
  {
   "cell_type": "code",
   "execution_count": 13,
   "metadata": {},
   "outputs": [
    {
     "data": {
      "text/html": [
       "   <div id=\"R4WHsY\"></div>\n",
       "   <script type=\"text/javascript\" data-lets-plot-script=\"plot\">\n",
       "       (function() {\n",
       "           var plotSpec={\n",
       "\"data\":{\n",
       "\"subreddit\":[\"r/news\",\"r/worldnews\",\"r/todayilearned\",\"r/funny\",\"r/aww\",\"r/gaming\",\"r/OldSchoolCool\",\"r/mildlyinteresting\",\"r/AskReddit\",\"r/pics\",\"r/science\",\"r/nottheonion\",\"r/TwoXChromosomes\",\"r/movies\",\"r/EarthPorn\",\"r/LifeProTips\",\"r/Jokes\",\"r/explainlikeimfive\",\"r/Showerthoughts\",\"r/tifu\",\"r/Futurology\",\"r/DIY\",\"r/gadgets\",\"r/UpliftingNews\",\"r/food\",\"r/sports\",\"r/dataisbeautiful\",\"r/gifs\",\"r/history\",\"r/space\",\"r/books\"],\n",
       "\"count\":[20.0,18.0,16.0,14.0,14.0,13.0,12.0,12.0,11.0,10.0,7.0,7.0,5.0,5.0,5.0,4.0,4.0,3.0,3.0,2.0,2.0,2.0,2.0,2.0,1.0,1.0,1.0,1.0,1.0,1.0,1.0]\n",
       "},\n",
       "\"mapping\":{\n",
       "\"x\":\"subreddit\",\n",
       "\"y\":\"count\"\n",
       "},\n",
       "\"data_meta\":{\n",
       "},\n",
       "\"kind\":\"plot\",\n",
       "\"scales\":[],\n",
       "\"layers\":[{\n",
       "\"geom\":\"bar\",\n",
       "\"stat\":\"identity\",\n",
       "\"mapping\":{\n",
       "},\n",
       "\"data_meta\":{\n",
       "},\n",
       "\"data\":{\n",
       "}\n",
       "}],\n",
       "\"metainfo_list\":[]\n",
       "};\n",
       "           var plotContainer = document.getElementById(\"R4WHsY\");\n",
       "           window.letsPlotCall(function() {{\n",
       "               LetsPlot.buildPlotFromProcessedSpecs(plotSpec, -1, -1, plotContainer);\n",
       "           }});\n",
       "       })();\n",
       "   </script>"
      ],
      "text/plain": [
       "<lets_plot.plot.core.PlotSpec at 0x1455f69f0>"
      ]
     },
     "execution_count": 13,
     "metadata": {},
     "output_type": "execute_result"
    }
   ],
   "source": [
    "#This is how you specify the axis\n",
    "g = (\n",
    "    ggplot(plot_df, mapping=aes(x=\"subreddit\", y=\"count\")) +\n",
    "    geom_bar(stat='identity')\n",
    ")\n",
    "\n",
    "g"
   ]
  },
  {
   "cell_type": "markdown",
   "metadata": {},
   "source": [
    "### You can customise axes!\n",
    "\n",
    "Axes, just like colours, are **scales** of the plot. We can customise them with the `scale_*_*` functions, where the first `*` is the type of scale (e.g. in case of axes,`scale_x` or `scale_y`) and the second `*` is the type of scale (e.g. `scale_x_continuous`, if the scale is a continous numerical scale)."
   ]
  },
  {
   "cell_type": "code",
   "execution_count": 14,
   "metadata": {},
   "outputs": [
    {
     "data": {
      "text/html": [
       "   <div id=\"RmNORH\"></div>\n",
       "   <script type=\"text/javascript\" data-lets-plot-script=\"plot\">\n",
       "       (function() {\n",
       "           var plotSpec={\n",
       "\"data\":{\n",
       "\"subreddit\":[\"r/news\",\"r/worldnews\",\"r/todayilearned\",\"r/funny\",\"r/aww\",\"r/gaming\",\"r/OldSchoolCool\",\"r/mildlyinteresting\",\"r/AskReddit\",\"r/pics\",\"r/science\",\"r/nottheonion\",\"r/TwoXChromosomes\",\"r/movies\",\"r/EarthPorn\",\"r/LifeProTips\",\"r/Jokes\",\"r/explainlikeimfive\",\"r/Showerthoughts\",\"r/tifu\",\"r/Futurology\",\"r/DIY\",\"r/gadgets\",\"r/UpliftingNews\",\"r/food\",\"r/sports\",\"r/dataisbeautiful\",\"r/gifs\",\"r/history\",\"r/space\",\"r/books\"],\n",
       "\"count\":[20.0,18.0,16.0,14.0,14.0,13.0,12.0,12.0,11.0,10.0,7.0,7.0,5.0,5.0,5.0,4.0,4.0,3.0,3.0,2.0,2.0,2.0,2.0,2.0,1.0,1.0,1.0,1.0,1.0,1.0,1.0]\n",
       "},\n",
       "\"mapping\":{\n",
       "\"x\":\"subreddit\",\n",
       "\"y\":\"count\"\n",
       "},\n",
       "\"data_meta\":{\n",
       "},\n",
       "\"kind\":\"plot\",\n",
       "\"scales\":[{\n",
       "\"name\":\"Number of posts\",\n",
       "\"aesthetic\":\"y\"\n",
       "}],\n",
       "\"layers\":[{\n",
       "\"geom\":\"bar\",\n",
       "\"stat\":\"identity\",\n",
       "\"mapping\":{\n",
       "},\n",
       "\"data_meta\":{\n",
       "},\n",
       "\"data\":{\n",
       "}\n",
       "}],\n",
       "\"metainfo_list\":[]\n",
       "};\n",
       "           var plotContainer = document.getElementById(\"RmNORH\");\n",
       "           window.letsPlotCall(function() {{\n",
       "               LetsPlot.buildPlotFromProcessedSpecs(plotSpec, -1, -1, plotContainer);\n",
       "           }});\n",
       "       })();\n",
       "   </script>"
      ],
      "text/plain": [
       "<lets_plot.plot.core.PlotSpec at 0x1455f7bc0>"
      ]
     },
     "execution_count": 14,
     "metadata": {},
     "output_type": "execute_result"
    }
   ],
   "source": [
    "#Let's change the title of the count axis\n",
    "\n",
    "g = (\n",
    "    ggplot(plot_df, mapping=aes(x=\"subreddit\", y=\"count\")) +\n",
    "    scale_y_continuous(name=\"Number of posts\") +  # Change the Y-axis before flipping it\n",
    "    geom_bar(stat='identity')\n",
    ")\n",
    "\n",
    "g"
   ]
  },
  {
   "cell_type": "code",
   "execution_count": 21,
   "metadata": {},
   "outputs": [
    {
     "data": {
      "text/html": [
       "   <div id=\"TSgqqo\"></div>\n",
       "   <script type=\"text/javascript\" data-lets-plot-script=\"plot\">\n",
       "       (function() {\n",
       "           var plotSpec={\n",
       "\"data\":{\n",
       "\"subreddit\":[\"r/news\",\"r/worldnews\",\"r/todayilearned\",\"r/funny\",\"r/aww\",\"r/gaming\",\"r/OldSchoolCool\",\"r/mildlyinteresting\",\"r/AskReddit\",\"r/pics\",\"r/science\",\"r/nottheonion\",\"r/TwoXChromosomes\",\"r/movies\",\"r/EarthPorn\",\"r/LifeProTips\",\"r/Jokes\",\"r/explainlikeimfive\",\"r/Showerthoughts\",\"r/tifu\",\"r/Futurology\",\"r/DIY\",\"r/gadgets\",\"r/UpliftingNews\",\"r/food\",\"r/sports\",\"r/dataisbeautiful\",\"r/gifs\",\"r/history\",\"r/space\",\"r/books\"],\n",
       "\"count\":[20.0,18.0,16.0,14.0,14.0,13.0,12.0,12.0,11.0,10.0,7.0,7.0,5.0,5.0,5.0,4.0,4.0,3.0,3.0,2.0,2.0,2.0,2.0,2.0,1.0,1.0,1.0,1.0,1.0,1.0,1.0]\n",
       "},\n",
       "\"mapping\":{\n",
       "\"x\":\"subreddit\",\n",
       "\"y\":\"count\"\n",
       "},\n",
       "\"data_meta\":{\n",
       "},\n",
       "\"kind\":\"plot\",\n",
       "\"scales\":[{\n",
       "\"name\":\"Number of posts\",\n",
       "\"aesthetic\":\"y\",\n",
       "\"breaks\":[0.0,2.0,4.0,6.0,8.0,10.0,12.0,14.0,16.0,18.0,20.0]\n",
       "}],\n",
       "\"layers\":[{\n",
       "\"geom\":\"bar\",\n",
       "\"stat\":\"identity\",\n",
       "\"mapping\":{\n",
       "},\n",
       "\"data_meta\":{\n",
       "},\n",
       "\"data\":{\n",
       "}\n",
       "}],\n",
       "\"metainfo_list\":[]\n",
       "};\n",
       "           var plotContainer = document.getElementById(\"TSgqqo\");\n",
       "           window.letsPlotCall(function() {{\n",
       "               LetsPlot.buildPlotFromProcessedSpecs(plotSpec, -1, -1, plotContainer);\n",
       "           }});\n",
       "       })();\n",
       "   </script>"
      ],
      "text/plain": [
       "<lets_plot.plot.core.PlotSpec at 0x14561b740>"
      ]
     },
     "execution_count": 21,
     "metadata": {},
     "output_type": "execute_result"
    }
   ],
   "source": [
    "# We could choose to change the labels of that axis\n",
    "\n",
    "g = (\n",
    "    ggplot(plot_df, mapping=aes(x=\"subreddit\", y=\"count\")) +\n",
    "    scale_y_continuous(name=\"Number of posts\", breaks=list(range(0, 20+2, 2))) +  \n",
    "    geom_bar(stat='identity')\n",
    ")\n",
    "\n",
    "g"
   ]
  },
  {
   "cell_type": "markdown",
   "metadata": {},
   "source": [
    "🗣️ **CLASSROOM DISCUSSION:** Why do you think we had to do `range(0, 20+2, 2)`? Why not just `range(0, 20)`?"
   ]
  },
  {
   "cell_type": "markdown",
   "metadata": {},
   "source": [
    "I could flip it:"
   ]
  },
  {
   "cell_type": "code",
   "execution_count": 24,
   "metadata": {},
   "outputs": [
    {
     "data": {
      "text/html": [
       "   <div id=\"6WjNAm\"></div>\n",
       "   <script type=\"text/javascript\" data-lets-plot-script=\"plot\">\n",
       "       (function() {\n",
       "           var plotSpec={\n",
       "\"data\":{\n",
       "\"subreddit\":[\"r/news\",\"r/worldnews\",\"r/todayilearned\",\"r/funny\",\"r/aww\",\"r/gaming\",\"r/OldSchoolCool\",\"r/mildlyinteresting\",\"r/AskReddit\",\"r/pics\",\"r/science\",\"r/nottheonion\",\"r/TwoXChromosomes\",\"r/movies\",\"r/EarthPorn\",\"r/LifeProTips\",\"r/Jokes\",\"r/explainlikeimfive\",\"r/Showerthoughts\",\"r/tifu\",\"r/Futurology\",\"r/DIY\",\"r/gadgets\",\"r/UpliftingNews\",\"r/food\",\"r/sports\",\"r/dataisbeautiful\",\"r/gifs\",\"r/history\",\"r/space\",\"r/books\"],\n",
       "\"count\":[20.0,18.0,16.0,14.0,14.0,13.0,12.0,12.0,11.0,10.0,7.0,7.0,5.0,5.0,5.0,4.0,4.0,3.0,3.0,2.0,2.0,2.0,2.0,2.0,1.0,1.0,1.0,1.0,1.0,1.0,1.0]\n",
       "},\n",
       "\"mapping\":{\n",
       "\"x\":\"subreddit\",\n",
       "\"y\":\"count\"\n",
       "},\n",
       "\"data_meta\":{\n",
       "},\n",
       "\"coord\":{\n",
       "\"name\":\"flip\",\n",
       "\"flip\":true\n",
       "},\n",
       "\"kind\":\"plot\",\n",
       "\"scales\":[{\n",
       "\"name\":\"Number of posts\",\n",
       "\"aesthetic\":\"y\",\n",
       "\"breaks\":[0.0,2.0,4.0,6.0,8.0,10.0,12.0,14.0,16.0,18.0,20.0]\n",
       "}],\n",
       "\"layers\":[{\n",
       "\"geom\":\"bar\",\n",
       "\"stat\":\"identity\",\n",
       "\"mapping\":{\n",
       "},\n",
       "\"data_meta\":{\n",
       "},\n",
       "\"data\":{\n",
       "}\n",
       "}],\n",
       "\"metainfo_list\":[]\n",
       "};\n",
       "           var plotContainer = document.getElementById(\"6WjNAm\");\n",
       "           window.letsPlotCall(function() {{\n",
       "               LetsPlot.buildPlotFromProcessedSpecs(plotSpec, -1, -1, plotContainer);\n",
       "           }});\n",
       "       })();\n",
       "   </script>"
      ],
      "text/plain": [
       "<lets_plot.plot.core.PlotSpec at 0x14563fc20>"
      ]
     },
     "execution_count": 24,
     "metadata": {},
     "output_type": "execute_result"
    }
   ],
   "source": [
    "g = (\n",
    "    ggplot(plot_df, mapping=aes(x=\"subreddit\", y=\"count\")) +\n",
    "    scale_y_continuous(name=\"Number of posts\", breaks=list(range(0, 20+2, 2))) +  \n",
    "    coord_flip() +\n",
    "    geom_bar(stat='identity')\n",
    ")\n",
    "\n",
    "# This is a little bit more useful but hard to read because there is no order\n",
    "g"
   ]
  },
  {
   "cell_type": "markdown",
   "metadata": {},
   "source": [
    "### Add in more aesthetics\n",
    "\n",
    "Each `geom` 'listens' to a specific set of aesthetics. \n",
    "\n",
    "If you go to the [documentation of the `geom_bar()` function](https://lets-plot.org/python/pages/api/lets_plot.geom_bar.html#lets_plot.geom_bar), you will see that the `x` and `y` aesthetics are mandatory, but there are others which are optional.\n"
   ]
  },
  {
   "cell_type": "code",
   "execution_count": 28,
   "metadata": {},
   "outputs": [
    {
     "data": {
      "text/html": [
       "   <div id=\"QvdOzp\"></div>\n",
       "   <script type=\"text/javascript\" data-lets-plot-script=\"plot\">\n",
       "       (function() {\n",
       "           var plotSpec={\n",
       "\"data\":{\n",
       "\"subreddit\":[\"r/news\",\"r/worldnews\",\"r/todayilearned\",\"r/funny\",\"r/aww\",\"r/gaming\",\"r/OldSchoolCool\",\"r/mildlyinteresting\",\"r/AskReddit\",\"r/pics\",\"r/science\",\"r/nottheonion\",\"r/TwoXChromosomes\",\"r/movies\",\"r/EarthPorn\",\"r/LifeProTips\",\"r/Jokes\",\"r/explainlikeimfive\",\"r/Showerthoughts\",\"r/tifu\",\"r/Futurology\",\"r/DIY\",\"r/gadgets\",\"r/UpliftingNews\",\"r/food\",\"r/sports\",\"r/dataisbeautiful\",\"r/gifs\",\"r/history\",\"r/space\",\"r/books\"],\n",
       "\"count\":[20.0,18.0,16.0,14.0,14.0,13.0,12.0,12.0,11.0,10.0,7.0,7.0,5.0,5.0,5.0,4.0,4.0,3.0,3.0,2.0,2.0,2.0,2.0,2.0,1.0,1.0,1.0,1.0,1.0,1.0,1.0]\n",
       "},\n",
       "\"mapping\":{\n",
       "\"x\":\"subreddit\",\n",
       "\"y\":\"count\"\n",
       "},\n",
       "\"data_meta\":{\n",
       "},\n",
       "\"coord\":{\n",
       "\"name\":\"flip\",\n",
       "\"flip\":true\n",
       "},\n",
       "\"theme\":{\n",
       "\"name\":\"minimal\"\n",
       "},\n",
       "\"ggtitle\":{\n",
       "\"text\":\"I could fix the colour used to fill the bars!\"\n",
       "},\n",
       "\"kind\":\"plot\",\n",
       "\"scales\":[{\n",
       "\"name\":\"Subreddit Names\",\n",
       "\"aesthetic\":\"x\",\n",
       "\"limits\":[\"r/books\",\"r/space\",\"r/history\",\"r/gifs\",\"r/dataisbeautiful\",\"r/sports\",\"r/food\",\"r/UpliftingNews\",\"r/gadgets\",\"r/DIY\",\"r/Futurology\",\"r/tifu\",\"r/Showerthoughts\",\"r/explainlikeimfive\",\"r/Jokes\",\"r/LifeProTips\",\"r/EarthPorn\",\"r/movies\",\"r/TwoXChromosomes\",\"r/nottheonion\",\"r/science\",\"r/pics\",\"r/AskReddit\",\"r/mildlyinteresting\",\"r/OldSchoolCool\",\"r/gaming\",\"r/aww\",\"r/funny\",\"r/todayilearned\",\"r/worldnews\",\"r/news\"],\n",
       "\"discrete\":true,\n",
       "\"reverse\":false\n",
       "},{\n",
       "\"name\":\"Number of posts\",\n",
       "\"aesthetic\":\"y\",\n",
       "\"breaks\":[0.0,2.0,4.0,6.0,8.0,10.0,12.0,14.0,16.0,18.0,20.0]\n",
       "}],\n",
       "\"layers\":[{\n",
       "\"geom\":\"bar\",\n",
       "\"stat\":\"identity\",\n",
       "\"mapping\":{\n",
       "},\n",
       "\"data_meta\":{\n",
       "},\n",
       "\"fill\":\"red\",\n",
       "\"data\":{\n",
       "}\n",
       "}],\n",
       "\"metainfo_list\":[]\n",
       "};\n",
       "           var plotContainer = document.getElementById(\"QvdOzp\");\n",
       "           window.letsPlotCall(function() {{\n",
       "               LetsPlot.buildPlotFromProcessedSpecs(plotSpec, -1, -1, plotContainer);\n",
       "           }});\n",
       "       })();\n",
       "   </script>"
      ],
      "text/plain": [
       "<lets_plot.plot.core.PlotSpec at 0x1470a5a00>"
      ]
     },
     "execution_count": 28,
     "metadata": {},
     "output_type": "execute_result"
    }
   ],
   "source": [
    "order_subreddits = list(reversed(plot_df['subreddit'].tolist()))\n",
    "\n",
    "g = (\n",
    "    ggplot(plot_df, mapping=aes(x=\"subreddit\", y=\"count\")) +\n",
    "    scale_x_discrete(name=\"Subreddit Names\", limits=order_subreddits) +\n",
    "    scale_y_continuous(name=\"Number of posts\", breaks=list(range(0, 20+2, 2))) +  \n",
    "    coord_flip() +\n",
    "    geom_bar(stat='identity', fill='red') + # THIS IS THE IMPORTANT BIT\n",
    "    theme_minimal() +\n",
    "    labs(title=\"I could fix the colour used to fill the bars!\")\n",
    ")\n",
    "\n",
    "g"
   ]
  },
  {
   "cell_type": "markdown",
   "metadata": {},
   "source": [
    "### Who said you MUST stick to a single `geom`?\n",
    "\n",
    "Let's add a `geom_text()` to show the actual values of the bars:"
   ]
  },
  {
   "cell_type": "code",
   "execution_count": 34,
   "metadata": {},
   "outputs": [
    {
     "data": {
      "text/html": [
       "   <div id=\"fpcw2T\"></div>\n",
       "   <script type=\"text/javascript\" data-lets-plot-script=\"plot\">\n",
       "       (function() {\n",
       "           var plotSpec={\n",
       "\"data\":{\n",
       "\"subreddit\":[\"r/news\",\"r/worldnews\",\"r/todayilearned\",\"r/funny\",\"r/aww\",\"r/gaming\",\"r/OldSchoolCool\",\"r/mildlyinteresting\",\"r/AskReddit\",\"r/pics\",\"r/science\",\"r/nottheonion\",\"r/TwoXChromosomes\",\"r/movies\",\"r/EarthPorn\",\"r/LifeProTips\",\"r/Jokes\",\"r/explainlikeimfive\",\"r/Showerthoughts\",\"r/tifu\",\"r/Futurology\",\"r/DIY\",\"r/gadgets\",\"r/UpliftingNews\",\"r/food\",\"r/sports\",\"r/dataisbeautiful\",\"r/gifs\",\"r/history\",\"r/space\",\"r/books\"],\n",
       "\"count\":[20.0,18.0,16.0,14.0,14.0,13.0,12.0,12.0,11.0,10.0,7.0,7.0,5.0,5.0,5.0,4.0,4.0,3.0,3.0,2.0,2.0,2.0,2.0,2.0,1.0,1.0,1.0,1.0,1.0,1.0,1.0]\n",
       "},\n",
       "\"mapping\":{\n",
       "\"x\":\"subreddit\",\n",
       "\"y\":\"count\",\n",
       "\"fill\":\"count\",\n",
       "\"label\":\"count\"\n",
       "},\n",
       "\"data_meta\":{\n",
       "},\n",
       "\"coord\":{\n",
       "\"name\":\"flip\",\n",
       "\"flip\":true\n",
       "},\n",
       "\"theme\":{\n",
       "\"name\":\"minimal\"\n",
       "},\n",
       "\"ggtitle\":{\n",
       "\"text\":\"OR, I could map the fill to a column (count)!\",\n",
       "\"subtitle\":\"Because count is a numerical variable, plotnine automatically converts it to a gradient scale\"\n",
       "},\n",
       "\"kind\":\"plot\",\n",
       "\"scales\":[{\n",
       "\"name\":\"Subreddit Names\",\n",
       "\"aesthetic\":\"x\",\n",
       "\"limits\":[\"r/books\",\"r/space\",\"r/history\",\"r/gifs\",\"r/dataisbeautiful\",\"r/sports\",\"r/food\",\"r/UpliftingNews\",\"r/gadgets\",\"r/DIY\",\"r/Futurology\",\"r/tifu\",\"r/Showerthoughts\",\"r/explainlikeimfive\",\"r/Jokes\",\"r/LifeProTips\",\"r/EarthPorn\",\"r/movies\",\"r/TwoXChromosomes\",\"r/nottheonion\",\"r/science\",\"r/pics\",\"r/AskReddit\",\"r/mildlyinteresting\",\"r/OldSchoolCool\",\"r/gaming\",\"r/aww\",\"r/funny\",\"r/todayilearned\",\"r/worldnews\",\"r/news\"],\n",
       "\"discrete\":true,\n",
       "\"reverse\":false\n",
       "},{\n",
       "\"name\":\"Number of posts\",\n",
       "\"aesthetic\":\"y\",\n",
       "\"breaks\":[0.0,2.0,4.0,6.0,8.0,10.0,12.0,14.0,16.0,18.0,20.0]\n",
       "}],\n",
       "\"layers\":[{\n",
       "\"geom\":\"bar\",\n",
       "\"stat\":\"identity\",\n",
       "\"mapping\":{\n",
       "},\n",
       "\"data_meta\":{\n",
       "},\n",
       "\"data\":{\n",
       "}\n",
       "},{\n",
       "\"geom\":\"text\",\n",
       "\"mapping\":{\n",
       "\"y\":\"count\"\n",
       "},\n",
       "\"data_meta\":{\n",
       "},\n",
       "\"nudge_y\":4.0,\n",
       "\"size\":8.0,\n",
       "\"data\":{\n",
       "}\n",
       "}],\n",
       "\"metainfo_list\":[]\n",
       "};\n",
       "           var plotContainer = document.getElementById(\"fpcw2T\");\n",
       "           window.letsPlotCall(function() {{\n",
       "               LetsPlot.buildPlotFromProcessedSpecs(plotSpec, -1, -1, plotContainer);\n",
       "           }});\n",
       "       })();\n",
       "   </script>"
      ],
      "text/plain": [
       "<lets_plot.plot.core.PlotSpec at 0x1470a8fb0>"
      ]
     },
     "execution_count": 34,
     "metadata": {},
     "output_type": "execute_result"
    }
   ],
   "source": [
    "order_subreddits = list(reversed(plot_df['subreddit'].tolist()))\n",
    "\n",
    "g = (\n",
    "    ggplot(plot_df, mapping=aes(x=\"subreddit\", y=\"count\", fill=\"count\", label=\"count\")) + # I added a label aesthetic here\n",
    "    scale_x_discrete(name=\"Subreddit Names\", limits=order_subreddits) +\n",
    "    scale_y_continuous(name=\"Number of posts\", breaks=list(range(0, 20+2, 2))) +  \n",
    "    coord_flip() +\n",
    "    geom_bar(stat='identity') + \n",
    "    geom_text(mapping=aes(y=\"count\"), nudge_y=4, size=8) + # THIS IS THE IMPORTANT BIT. Notice how I redefined the y-axis just for the text\n",
    "    theme_minimal() +\n",
    "    labs(title=\"OR, I could map the fill to a column (count)!\",\n",
    "         subtitle=\"Because count is a numerical variable, plotnine automatically converts it to a gradient scale\",)\n",
    ")\n",
    "\n",
    "g"
   ]
  }
 ],
 "metadata": {
  "kernelspec": {
   "display_name": "base",
   "language": "python",
   "name": "python3"
  },
  "language_info": {
   "codemirror_mode": {
    "name": "ipython",
    "version": 3
   },
   "file_extension": ".py",
   "mimetype": "text/x-python",
   "name": "python",
   "nbconvert_exporter": "python",
   "pygments_lexer": "ipython3",
   "version": "3.12.2"
  }
 },
 "nbformat": 4,
 "nbformat_minor": 2
}
